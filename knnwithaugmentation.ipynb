{
 "cells": [
  {
   "cell_type": "code",
   "execution_count": 1,
   "source": [
    "import numpy as np\r\n",
    "import matplotlib.pyplot as plt\r\n",
    "import os\r\n",
    "import pickle"
   ],
   "outputs": [],
   "metadata": {}
  },
  {
   "cell_type": "code",
   "execution_count": 2,
   "source": [
    "# Same routine\r\n",
    "# load MNIST dataset from outside working dir\r\n",
    "parent = os.path.split(os.getcwd())[0]\r\n",
    "print(parent)\r\n",
    "data_path = parent + \"\\mnist_784_version1.pkl\"\r\n",
    "print(data_path)\r\n",
    "\r\n",
    "with open(data_path, \"rb\") as file:\r\n",
    "    mnist = pickle.load(file)\r\n",
    "print(mnist.keys())\r\n",
    "\r\n",
    "X = mnist.data.to_numpy()\r\n",
    "y = mnist.target.to_numpy()\r\n",
    "print(\"shape of feature:\", X.shape)\r\n",
    "print(\"dtype of feature:\", X.dtype)\r\n",
    "print(\"shape of target:\", y.shape)\r\n",
    "print(\"dtype of target:\", y.dtype)\r\n",
    "\r\n",
    "y = y.astype(np.uint8)\r\n",
    "print(\"new dtype:\", y.dtype)\r\n",
    "\r\n",
    "# Splitting\r\n",
    "X_train, X_test, y_train, y_test = X[:60000, :], X[60000:, :], y[:60000], y[60000:]\r\n",
    "\r\n",
    "# training set\r\n",
    "print(X_train.shape)\r\n",
    "print(y_train.shape)\r\n",
    "# test set \r\n",
    "print(X_test.shape)\r\n",
    "print(y_test.shape)"
   ],
   "outputs": [
    {
     "output_type": "stream",
     "name": "stdout",
     "text": [
      "c:\\Users\\nagat\\desktop\\handonml\n",
      "c:\\Users\\nagat\\desktop\\handonml\\mnist_784_version1.pkl\n",
      "dict_keys(['data', 'target', 'frame', 'categories', 'feature_names', 'target_names', 'DESCR', 'details', 'url'])\n",
      "shape of feature: (70000, 784)\n",
      "dtype of feature: float64\n",
      "shape of target: (70000,)\n",
      "dtype of target: object\n",
      "new dtype: uint8\n",
      "(60000, 784)\n",
      "(60000,)\n",
      "(10000, 784)\n",
      "(10000,)\n"
     ]
    }
   ],
   "metadata": {}
  },
  {
   "cell_type": "code",
   "execution_count": 3,
   "source": [
    "# let's try image manipulation via scipy (specifically \"shift\")\r\n",
    "from scipy.ndimage.interpolation import shift\r\n",
    "\r\n",
    "some_image = 9 \r\n",
    "test = shift(X_train[some_image].reshape((28, 28)), shift=(5, 6), cval=100)\r\n",
    "fig ,axes = plt.subplots(nrows=1, ncols=2, figsize=(12, 8))\r\n",
    "axes[0].imshow(X_train[some_image].reshape((28, 28)), cmap=\"binary\")\r\n",
    "axes[1].imshow(test, cmap=\"binary\")"
   ],
   "outputs": [
    {
     "output_type": "execute_result",
     "data": {
      "text/plain": [
       "<matplotlib.image.AxesImage at 0x1ffc82c9850>"
      ]
     },
     "metadata": {},
     "execution_count": 3
    },
    {
     "output_type": "display_data",
     "data": {
      "text/plain": [
       "<Figure size 864x576 with 2 Axes>"
      ],
      "image/png": "[encoded data removed]"
     },
     "metadata": {
      "needs_background": "light"
     }
    }
   ],
   "metadata": {}
  },
  {
   "cell_type": "code",
   "execution_count": 4,
   "source": [
    "# now let's shift each image in training to left, right, up, down by 1 pixel \r\n",
    "# and then \"augment\" them to training set\r\n",
    "from Shiftimage import shift_images\r\n",
    "\r\n",
    "new_X_train, new_y_train = shift_images(X_train, y_train)"
   ],
   "outputs": [],
   "metadata": {}
  },
  {
   "cell_type": "code",
   "execution_count": 7,
   "source": [
    "# now we have a bigger training set\r\n",
    "print(new_X_train.shape)\r\n",
    "print(new_y_train.shape)"
   ],
   "outputs": [
    {
     "output_type": "stream",
     "name": "stdout",
     "text": [
      "(300000, 784)\n",
      "(300000,)\n"
     ]
    }
   ],
   "metadata": {}
  },
  {
   "cell_type": "code",
   "execution_count": 10,
   "source": [
    "# let's us visualize the added instance\r\n",
    "from multipleimages import multiple_images\r\n",
    "\r\n",
    "multiple_images(new_X_train[60000:60016], 4, 4)\r\n",
    "print(\"Labels : \\n\", new_y_train[60000:60016].reshape((4, 4)))\r\n",
    "\r\n",
    "# well it was just slightly changes but you can still see that imaged in col 3 got shifted up a bit."
   ],
   "outputs": [
    {
     "output_type": "stream",
     "name": "stdout",
     "text": [
      "Labels : \n",
      " [[5 5 5 5]\n",
      " [0 0 0 0]\n",
      " [4 4 4 4]\n",
      " [1 1 1 1]]\n"
     ]
    },
    {
     "output_type": "display_data",
     "data": {
      "text/plain": [
       "<Figure size 1200x800 with 16 Axes>"
      ],
      "image/png": "[encoded data removed]"
     },
     "metadata": {}
    }
   ],
   "metadata": {}
  },
  {
   "cell_type": "code",
   "execution_count": 11,
   "source": [
    "# now we have a augmented training set \r\n",
    "# let's re-fit my previous model with this training set\r\n",
    "with open(\"knnmodel.pkl\", \"rb\") as file:\r\n",
    "    knn_clf = pickle.load(file)\r\n",
    "    print(knn_clf)"
   ],
   "outputs": [
    {
     "output_type": "stream",
     "name": "stdout",
     "text": [
      "KNeighborsClassifier(n_neighbors=4, weights='distance')\n"
     ]
    }
   ],
   "metadata": {}
  },
  {
   "cell_type": "code",
   "execution_count": 12,
   "source": [
    "# re-fitting\r\n",
    "knn_clf.fit(new_X_train, new_y_train)"
   ],
   "outputs": [
    {
     "output_type": "execute_result",
     "data": {
      "text/plain": [
       "KNeighborsClassifier(n_neighbors=4, weights='distance')"
      ]
     },
     "metadata": {},
     "execution_count": 12
    }
   ],
   "metadata": {}
  },
  {
   "cell_type": "code",
   "execution_count": 13,
   "source": [
    "# And now let's see how well the model can generalize on test set\r\n",
    "from sklearn.metrics import accuracy_score\r\n",
    "\r\n",
    "pred = knn_clf.predict(X_test)\r\n",
    "acc_score = accuracy_score(y_true=y_test, y_pred=pred)\r\n",
    "print(\"Accuracy score on test set :\", acc_score) #Accuracy score on test set : 0.9763"
   ],
   "outputs": [
    {
     "output_type": "stream",
     "name": "stdout",
     "text": [
      "Accuracy score on test set : 0.9763\n"
     ]
    }
   ],
   "metadata": {}
  },
  {
   "cell_type": "code",
   "execution_count": 14,
   "source": [
    "# YES!!! the augmented training improve my model's generalization ability 0.5%\r\n",
    "# WOW!!!\r\n",
    "# let's save it\r\n",
    "# with open(\"augmentedknnmodel.pkl\", \"wb\") as file:\r\n",
    "#     pickle.dump(knn_clf, file)"
   ],
   "outputs": [],
   "metadata": {}
  }
 ],
 "metadata": {
  "orig_nbformat": 4,
  "language_info": {
   "name": "python",
   "version": "3.8.8",
   "mimetype": "text/x-python",
   "codemirror_mode": {
    "name": "ipython",
    "version": 3
   },
   "pygments_lexer": "ipython3",
   "nbconvert_exporter": "python",
   "file_extension": ".py"
  },
  "kernelspec": {
   "name": "python3",
   "display_name": "Python 3.8.8 64-bit ('base': conda)"
  },
  "interpreter": {
   "hash": "8f06dfb525f9924a176ad156070c2381302320573984100a28858c10f60fedad"
  }
 },
 "nbformat": 4,
 "nbformat_minor": 2
}
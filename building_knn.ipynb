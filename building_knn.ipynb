{
 "cells": [
  {
   "cell_type": "code",
   "execution_count": 1,
   "source": [
    "import numpy as np\r\n",
    "import matplotlib.pyplot as plt\r\n",
    "import os\r\n",
    "import pickle"
   ],
   "outputs": [],
   "metadata": {}
  },
  {
   "cell_type": "code",
   "execution_count": 2,
   "source": [
    "# load MNIST dataset from outside working dir\r\n",
    "parent = os.path.split(os.getcwd())[0]\r\n",
    "print(parent)\r\n",
    "data_path = parent + \"\\mnist_784_version1.pkl\"\r\n",
    "print(data_path)\r\n",
    "\r\n",
    "with open(data_path, \"rb\") as file:\r\n",
    "    mnist = pickle.load(file)"
   ],
   "outputs": [
    {
     "output_type": "stream",
     "name": "stdout",
     "text": [
      "c:\\Users\\nagat\\desktop\\handonml\n",
      "c:\\Users\\nagat\\desktop\\handonml\\mnist_784_version1.pkl\n"
     ]
    }
   ],
   "metadata": {}
  },
  {
   "cell_type": "code",
   "execution_count": 3,
   "source": [
    "print(mnist.keys())\r\n",
    "print(mnist.target_names)\r\n",
    "print(mnist.details)\r\n",
    "# print(mnist.DESCR)"
   ],
   "outputs": [
    {
     "output_type": "stream",
     "name": "stdout",
     "text": [
      "dict_keys(['data', 'target', 'frame', 'categories', 'feature_names', 'target_names', 'DESCR', 'details', 'url'])\n",
      "['class']\n",
      "{'id': '554', 'name': 'mnist_784', 'version': '1', 'description_version': '1', 'format': 'ARFF', 'creator': ['Yann LeCun', 'Corinna Cortes', 'Christopher J.C. Burges'], 'upload_date': '2014-09-29T03:28:38', 'language': 'English', 'licence': 'Public', 'url': 'https://www.openml.org/data/v1/download/52667/mnist_784.arff', 'file_id': '52667', 'default_target_attribute': 'class', 'tag': ['AzurePilot', 'OpenML-CC18', 'OpenML100', 'study_1', 'study_123', 'study_41', 'study_99', 'vision'], 'visibility': 'public', 'minio_url': 'http://openml1.win.tue.nl/dataset554/dataset_554.pq', 'status': 'active', 'processing_date': '2020-11-20 20:12:09', 'md5_checksum': '0298d579eb1b86163de7723944c7e495'}\n"
     ]
    }
   ],
   "metadata": {}
  },
  {
   "cell_type": "code",
   "execution_count": 4,
   "source": [
    "X = mnist.data.to_numpy()\r\n",
    "y = mnist.target.to_numpy()"
   ],
   "outputs": [],
   "metadata": {}
  },
  {
   "cell_type": "code",
   "execution_count": 5,
   "source": [
    "# view some property\r\n",
    "print(\"shape of feature:\", X.shape)\r\n",
    "print(\"dtype of feature:\", X.dtype)\r\n",
    "print(\"shape of target:\", y.shape)\r\n",
    "print(\"dtype of target:\", y.dtype)"
   ],
   "outputs": [
    {
     "output_type": "stream",
     "name": "stdout",
     "text": [
      "shape of feature: (70000, 784)\n",
      "dtype of feature: float64\n",
      "shape of target: (70000,)\n",
      "dtype of target: object\n"
     ]
    }
   ],
   "metadata": {}
  },
  {
   "cell_type": "code",
   "execution_count": 6,
   "source": [
    "# convert dtype of target\r\n",
    "y = y.astype(np.uint8)\r\n",
    "print(\"new dtype:\", y.dtype)"
   ],
   "outputs": [
    {
     "output_type": "stream",
     "name": "stdout",
     "text": [
      "new dtype: uint8\n"
     ]
    }
   ],
   "metadata": {}
  },
  {
   "cell_type": "code",
   "execution_count": 7,
   "source": [
    "# Splitting\r\n",
    "X_train, X_test, y_train, y_test = X[:60000, :], X[60000:, :], y[:60000], y[60000:]"
   ],
   "outputs": [],
   "metadata": {}
  },
  {
   "cell_type": "code",
   "execution_count": 8,
   "source": [
    "# training set\r\n",
    "print(X_train.shape)\r\n",
    "print(y_train.shape)\r\n",
    "# test set \r\n",
    "print(X_test.shape)\r\n",
    "print(y_test.shape)"
   ],
   "outputs": [
    {
     "output_type": "stream",
     "name": "stdout",
     "text": [
      "(60000, 784)\n",
      "(60000,)\n",
      "(10000, 784)\n",
      "(10000,)\n"
     ]
    }
   ],
   "metadata": {}
  },
  {
   "cell_type": "code",
   "execution_count": 9,
   "source": [
    "# Let's look at some hand-written digits\r\n",
    "from multipleimages import multiple_images\r\n",
    "\r\n",
    "multiple_images(imcon=X_train, nrow=5, ncol=5)\r\n",
    "print(\"Labels :\\n\", y[:25].reshape((5, 5)))"
   ],
   "outputs": [
    {
     "output_type": "stream",
     "name": "stdout",
     "text": [
      "Labels :\n",
      " [[5 0 4 1 9]\n",
      " [2 1 3 1 4]\n",
      " [3 5 3 6 1]\n",
      " [7 2 8 6 9]\n",
      " [4 0 9 1 1]]\n"
     ]
    },
    {
     "output_type": "display_data",
     "data": {
      "text/plain": [
       "<Figure size 1200x800 with 25 Axes>"
      ],
      "image/png": "[encoded data removed]"
     },
     "metadata": {}
    }
   ],
   "metadata": {}
  },
  {
   "cell_type": "code",
   "execution_count": 10,
   "source": [
    "# let's check if classes are imbalance or skewed\r\n",
    "for digit in range(10):\r\n",
    "    print(f\"the number of {digit}:\", (y==digit).sum(), \"ratio: {:.4f}\".format((y==digit).sum() / len(y)))\r\n",
    "\r\n",
    "# looking good    "
   ],
   "outputs": [
    {
     "output_type": "stream",
     "name": "stdout",
     "text": [
      "the number of 0: 6903 ratio: 0.0986\n",
      "the number of 1: 7877 ratio: 0.1125\n",
      "the number of 2: 6990 ratio: 0.0999\n",
      "the number of 3: 7141 ratio: 0.1020\n",
      "the number of 4: 6824 ratio: 0.0975\n",
      "the number of 5: 6313 ratio: 0.0902\n",
      "the number of 6: 6876 ratio: 0.0982\n",
      "the number of 7: 7293 ratio: 0.1042\n",
      "the number of 8: 6825 ratio: 0.0975\n",
      "the number of 9: 6958 ratio: 0.0994\n"
     ]
    }
   ],
   "metadata": {}
  },
  {
   "cell_type": "code",
   "execution_count": 11,
   "source": [
    "# let's do simple modeling\r\n",
    "from sklearn.neighbors import KNeighborsClassifier\r\n",
    "\r\n",
    "knn_clf = KNeighborsClassifier()\r\n",
    "knn_clf.fit(X_train, y_train)"
   ],
   "outputs": [
    {
     "output_type": "execute_result",
     "data": {
      "text/plain": [
       "KNeighborsClassifier()"
      ]
     },
     "metadata": {},
     "execution_count": 11
    }
   ],
   "metadata": {}
  },
  {
   "cell_type": "code",
   "execution_count": 12,
   "source": [
    "# let's predict some image in training set\r\n",
    "some_index = 69\r\n",
    "pred = knn_clf.predict([X_train[some_index]])\r\n",
    "print(pred)"
   ],
   "outputs": [
    {
     "output_type": "stream",
     "name": "stdout",
     "text": [
      "[0]\n"
     ]
    }
   ],
   "metadata": {}
  },
  {
   "cell_type": "code",
   "execution_count": 13,
   "source": [
    "print(\"ture label:\", y_train[some_index])\r\n",
    "plt.imshow(X_train[some_index].reshape((28, 28)), cmap=\"binary\")\r\n",
    "# Correct guess"
   ],
   "outputs": [
    {
     "output_type": "stream",
     "name": "stdout",
     "text": [
      "ture label: 0\n"
     ]
    },
    {
     "output_type": "execute_result",
     "data": {
      "text/plain": [
       "<matplotlib.image.AxesImage at 0x1e570a5e2e0>"
      ]
     },
     "metadata": {},
     "execution_count": 13
    },
    {
     "output_type": "display_data",
     "data": {
      "text/plain": [
       "<Figure size 432x288 with 1 Axes>"
      ],
      "image/png": "[encoded data removed]"
     },
     "metadata": {
      "needs_background": "light"
     }
    }
   ],
   "metadata": {}
  },
  {
   "cell_type": "code",
   "execution_count": 14,
   "source": [
    "# now let's evaluate the model\r\n",
    "from sklearn.model_selection import cross_val_score\r\n",
    "\r\n",
    "score = cross_val_score(\r\n",
    "    estimator=knn_clf,\r\n",
    "    X=X_train,\r\n",
    "    y=y_train,\r\n",
    "    cv=3,\r\n",
    "    scoring=\"accuracy\",\r\n",
    "    n_jobs=-1\r\n",
    ")\r\n",
    "\r\n",
    "print(\"Scores:\", score)\r\n",
    "print(\"mean:\", score.mean()) # quite impressive\r\n",
    "print(\"std:\", score.std())"
   ],
   "outputs": [
    {
     "output_type": "stream",
     "name": "stdout",
     "text": [
      "Scores: [0.9676  0.9671  0.96755]\n",
      "mean: 0.9674166666666667\n",
      "std: 0.00022484562605389473\n"
     ]
    }
   ],
   "metadata": {}
  },
  {
   "cell_type": "code",
   "execution_count": 15,
   "source": [
    "# now let's tune the hyperparameters \r\n",
    "# specifically \"n_neighbors\" and \"weights\"\r\n",
    "from Showscore import show_score\r\n",
    "params= [\r\n",
    "    {\"n_neighbors\": 3, \"weights\" : \"uniform\"},\r\n",
    "    {\"n_neighbors\": 4, \"weights\" : \"uniform\"},\r\n",
    "    {\"n_neighbors\": 6, \"weights\" : \"uniform\"},\r\n",
    "    {\"n_neighbors\": 9, \"weights\" : \"uniform\"},\r\n",
    "    {\"n_neighbors\": 3, \"weights\" : \"distance\"},\r\n",
    "    {\"n_neighbors\": 4, \"weights\" : \"distance\"},\r\n",
    "    {\"n_neighbors\": 6, \"weights\" : \"distance\"},\r\n",
    "    {\"n_neighbors\": 9, \"weights\" : \"distance\"},\r\n",
    "]\r\n",
    "\r\n",
    "for param in params:\r\n",
    "    show_score(param, X_train, y_train) \r\n"
   ],
   "outputs": [
    {
     "output_type": "stream",
     "name": "stdout",
     "text": [
      "Scores: [0.969   0.96805 0.9675 ] mean: 0.9681833333333333 std: 0.000619587676514684\n",
      "==================================================================\n",
      "Scores: [0.96625 0.9664  0.96725] mean: 0.9666333333333333 std: 0.00044032816045410023\n",
      "==================================================================\n",
      "Scores: [0.9654 0.9652 0.9659] mean: 0.9655 std: 0.00029439202887760016\n",
      "==================================================================\n",
      "Scores: [0.96355 0.9629  0.965  ] mean: 0.9638166666666667 std: 0.0008778129388175713\n",
      "==================================================================\n",
      "Scores: [0.9704 0.9689 0.9687] mean: 0.9693333333333333 std: 0.0007586537784494233\n",
      "==================================================================\n",
      "Scores: [0.9709  0.9698  0.97035] mean: 0.9703500000000002 std: 0.0004490731195102452\n",
      "==================================================================\n",
      "Scores: [0.97005 0.96855 0.96985] mean: 0.9694833333333334 std: 0.0006649979114419788\n",
      "==================================================================\n",
      "Scores: [0.96485 0.96405 0.96615] mean: 0.9650166666666666 std: 0.0008653836657164725\n",
      "==================================================================\n"
     ]
    }
   ],
   "metadata": {}
  },
  {
   "cell_type": "code",
   "execution_count": 16,
   "source": [
    "# so we have {\"n_neighbors\": 4, \"weights\" : \"distance\"} as the set of hyperparameters that produce \r\n",
    "# best validated score (mean: 0.97035)\r\n",
    "\r\n",
    "# well instead of using the above method to find the best set of hyperparameters\r\n",
    "# you can just use GridSearchCV of sklearn\r\n",
    "# but It took me over 2 hours to finish (and I really have no ideas why it took so long \r\n",
    "# so I just find it manually)\r\n",
    "\r\n",
    "\r\n",
    "knn_clf = KNeighborsClassifier(**{\"n_neighbors\": 4, \"weights\" : \"distance\"})\r\n",
    "knn_clf.fit(X_train, y_train)"
   ],
   "outputs": [
    {
     "output_type": "execute_result",
     "data": {
      "text/plain": [
       "KNeighborsClassifier(n_neighbors=4, weights='distance')"
      ]
     },
     "metadata": {},
     "execution_count": 16
    }
   ],
   "metadata": {}
  },
  {
   "cell_type": "code",
   "execution_count": 17,
   "source": [
    "# Let's use test set \r\n",
    "from sklearn.metrics import accuracy_score\r\n",
    "pred = knn_clf.predict(X_test)\r\n",
    "acc_score = accuracy_score(y_true=y_test, y_pred=pred)\r\n",
    "print(\"Accuracy scores on test set :\", acc_score) # Accuracy scores on test set : 0.9714"
   ],
   "outputs": [
    {
     "output_type": "stream",
     "name": "stdout",
     "text": [
      "Accuracy scores on test set : 0.9714\n"
     ]
    }
   ],
   "metadata": {}
  },
  {
   "cell_type": "code",
   "execution_count": 18,
   "source": [
    "# And that's is our model\r\n",
    "# SAVE IT!!\r\n",
    "# with open(\"knnmodel.pkl\", \"wb\") as file:\r\n",
    "#     pickle.dump(knn_clf, file)"
   ],
   "outputs": [],
   "metadata": {}
  }
 ],
 "metadata": {
  "orig_nbformat": 4,
  "language_info": {
   "name": "python",
   "version": "3.8.8",
   "mimetype": "text/x-python",
   "codemirror_mode": {
    "name": "ipython",
    "version": 3
   },
   "pygments_lexer": "ipython3",
   "nbconvert_exporter": "python",
   "file_extension": ".py"
  },
  "kernelspec": {
   "name": "python3",
   "display_name": "Python 3.8.8 64-bit ('base': conda)"
  },
  "interpreter": {
   "hash": "8f06dfb525f9924a176ad156070c2381302320573984100a28858c10f60fedad"
  }
 },
 "nbformat": 4,
 "nbformat_minor": 2
}